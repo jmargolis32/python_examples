{
 "cells": [
  {
   "cell_type": "code",
   "execution_count": 13,
   "id": "massive-fleece",
   "metadata": {},
   "outputs": [
    {
     "data": {
      "text/plain": [
       "array([[0, 0, 0],\n",
       "       [0, 0, 0]], dtype=int32)"
      ]
     },
     "execution_count": 13,
     "metadata": {},
     "output_type": "execute_result"
    }
   ],
   "source": [
    "import numpy as np\n",
    "\n",
    "track = np.array([[0,0,0],[0,0,0]], np.int32)\n",
    "track.shape\n",
    "\n",
    "track"
   ]
  },
  {
   "cell_type": "code",
   "execution_count": 26,
   "id": "decimal-hollow",
   "metadata": {},
   "outputs": [
    {
     "name": "stdout",
     "output_type": "stream",
     "text": [
      "[[0 0 0 0 0 0 0 0 0 0]]\n",
      "[[1 1 1 1 1 1 1 1 1 1]]\n"
     ]
    }
   ],
   "source": [
    "track_2 = np.full(\n",
    "    shape=[1,10],\n",
    "    fill_value=0,\n",
    "    dtype=np.int\n",
    ")\n",
    "\n",
    "print(track_2)\n",
    "\n",
    "track_3 = track_2 + 1\n",
    "print(track_3)\n"
   ]
  },
  {
   "cell_type": "code",
   "execution_count": 39,
   "id": "initial-context",
   "metadata": {},
   "outputs": [
    {
     "data": {
      "text/plain": [
       "array([[1., 1., 1., 1., 1.],\n",
       "       [1., 0., 0., 0., 1.],\n",
       "       [1., 0., 0., 0., 1.],\n",
       "       [1., 0., 0., 0., 1.],\n",
       "       [1., 1., 1., 1., 1.]])"
      ]
     },
     "execution_count": 39,
     "metadata": {},
     "output_type": "execute_result"
    }
   ],
   "source": [
    "a = np.zeros((5,5))\n",
    "a[:,4] = 1\n",
    "a[4,:] = 1\n",
    "a[0,:] = 1\n",
    "a[:,0] = 1\n",
    "    \n",
    "a\n"
   ]
  },
  {
   "cell_type": "code",
   "execution_count": 51,
   "id": "varying-violation",
   "metadata": {},
   "outputs": [
    {
     "data": {
      "text/plain": [
       "array([[3., 2., 2., 2., 2.],\n",
       "       [3., 1., 1., 1., 1.],\n",
       "       [3., 1., 1., 1., 1.],\n",
       "       [3., 1., 1., 1., 1.],\n",
       "       [3., 1., 1., 1., 1.]])"
      ]
     },
     "execution_count": 51,
     "metadata": {},
     "output_type": "execute_result"
    }
   ],
   "source": [
    "b = np.zeros((5,5))\n",
    "\n",
    "b[:,:] = 1\n",
    "\n",
    "for i in range(0,5):\n",
    "    b[0,i] = 2\n",
    "    b[i,0] = 3\n",
    "b"
   ]
  },
  {
   "cell_type": "code",
   "execution_count": 63,
   "id": "historic-adrian",
   "metadata": {},
   "outputs": [
    {
     "name": "stdout",
     "output_type": "stream",
     "text": [
      "[[2. 1. 1. 1. 1.]]\n",
      "[[2. 2. 1. 1. 1.]]\n",
      "[[2. 2. 2. 1. 1.]]\n",
      "[[2. 2. 2. 2. 1.]]\n",
      "[[2. 2. 2. 2. 2.]]\n"
     ]
    }
   ],
   "source": [
    "c = np.zeros((1,5))\n",
    "\n",
    "c[:,:] = 1\n",
    "c\n",
    "\n",
    "for i in range(0,5):\n",
    "    c[0,i] +=1\n",
    "    print(c)"
   ]
  },
  {
   "cell_type": "code",
   "execution_count": null,
   "id": "ordered-glenn",
   "metadata": {},
   "outputs": [],
   "source": []
  }
 ],
 "metadata": {
  "kernelspec": {
   "display_name": "Python 3",
   "language": "python",
   "name": "python3"
  },
  "language_info": {
   "codemirror_mode": {
    "name": "ipython",
    "version": 3
   },
   "file_extension": ".py",
   "mimetype": "text/x-python",
   "name": "python",
   "nbconvert_exporter": "python",
   "pygments_lexer": "ipython3",
   "version": "3.8.5"
  }
 },
 "nbformat": 4,
 "nbformat_minor": 5
}
