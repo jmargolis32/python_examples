{
 "cells": [
  {
   "cell_type": "code",
   "execution_count": 75,
   "id": "blessed-problem",
   "metadata": {},
   "outputs": [
    {
     "data": {
      "text/plain": [
       "['S9', 'S12', 'C5', 'D14', 'C11']"
      ]
     },
     "execution_count": 75,
     "metadata": {},
     "output_type": "execute_result"
    }
   ],
   "source": [
    "#Poker\n",
    "import random \n",
    "\n",
    "card_number = ['A','2','3','4','5','6','7','8','9','10','J','Q','K']\n",
    "card_suit = ['Hearts', 'Spades', 'Clubs', 'Diamonds']\n",
    "\n",
    "\n",
    "def build_deck():\n",
    "    numbers=list(range(2,15))\n",
    "    suits = ['H','S','C','D']\n",
    "    deck = []\n",
    "    for i in numbers:\n",
    "        for s in suits:\n",
    "            card = s+str(i)\n",
    "            deck.append(card)\n",
    "    return deck\n",
    "\n",
    "#build array, now called built deck\n",
    "built_deck = build_deck()\n",
    "\n",
    "#shuffle deck\n",
    "random.shuffle(built_deck)\n",
    "\n",
    "#function builds a hand, popping off a card from the first array member\n",
    "def build_hand():\n",
    "    user_hand=[]\n",
    "    for i in range(5):\n",
    "        user_hand.append(built_deck.pop(0))\n",
    "    return user_hand\n",
    "\n",
    "\n",
    "build_hand()\n",
    "\n",
    "\n",
    "\n",
    "\n",
    "#Print 10 hands, realizing also that this is the max number a deck of 52 can handle\n",
    "#for i in range(10):\n",
    "#    print(build_hand())\n",
    "#Below iS SANITY check \n",
    "# print random card from 0 to length of array\n",
    "#print(built_deck[random.randint(0,len(built_deck))])\n",
    "#built_deck = random.shuffle(built_deck)\n",
    "#print(type(built_deck))\n",
    "#print(built_deck)\n",
    "#print(list(build_hand()))\n",
    "#print(list(build_hand()))\n",
    "#print(list(build_hand()))\n",
    "#print(len(built_deck))\n"
   ]
  },
  {
   "cell_type": "code",
   "execution_count": null,
   "id": "mathematical-ukraine",
   "metadata": {},
   "outputs": [],
   "source": []
  },
  {
   "cell_type": "code",
   "execution_count": null,
   "id": "ignored-sheet",
   "metadata": {},
   "outputs": [],
   "source": []
  }
 ],
 "metadata": {
  "kernelspec": {
   "display_name": "Python 3",
   "language": "python",
   "name": "python3"
  },
  "language_info": {
   "codemirror_mode": {
    "name": "ipython",
    "version": 3
   },
   "file_extension": ".py",
   "mimetype": "text/x-python",
   "name": "python",
   "nbconvert_exporter": "python",
   "pygments_lexer": "ipython3",
   "version": "3.8.5"
  }
 },
 "nbformat": 4,
 "nbformat_minor": 5
}
