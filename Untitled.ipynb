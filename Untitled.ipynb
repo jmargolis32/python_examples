{
 "cells": [
  {
   "cell_type": "code",
   "execution_count": 8,
   "id": "entire-vaccine",
   "metadata": {},
   "outputs": [
    {
     "name": "stdout",
     "output_type": "stream",
     "text": [
      "['81b8a03f97e8787c53fe1a86bda042b6f0de9b0ec9c09357e107c99ba4d6948a', 'd029fa3a95e174a19934857f535eb9427d967218a36ea014b70ad704bc6c8d1c', '98010bd9270f9b100b6214a21754fd33bdc8d41b2bc9f9dd16ff54d3c34ffd71', 'bbb965ab0c80d6538cf2184babad2a564a010376712012bd07b0af92dcd3097d', '7a61b53701befdae0eeeffaecc73f14e20b537bb0f8b91ad7c2936dc63562b25', '73475cb40a568e8da8a045ced110137e159f890ac4da883b6b17dc651b3a8049', 'b4944c6ff08dc6f43da2e9c824669b7d927dd1fa976fadc7b456881f51bf5ccc', '76a50887d8f1c2e9301755428990ad81479ee21c25b43215cf524541e0503269', '6e4001871c0cf27c7634ef1dc478408f642410fd3a444e2a88e301f5c4a35a4d', '96061e92f58e4bdcdee73df36183fe3ac64747c81c26f6c83aada8d2aabb1864', 'd029fa3a95e174a19934857f535eb9427d967218a36ea014b70ad704bc6c8d1c', '8527a891e224136950ff32ca212b45bc93f69fbb801c3b1ebedac52775f99e61', '96061e92f58e4bdcdee73df36183fe3ac64747c81c26f6c83aada8d2aabb1864', 'c75cb66ae28d8ebc6eded002c28a8ba0d06d3a78c6b5cbf9b2ade051f0775ac4', '7688b6ef52555962d008fff894223582c484517cea7da49ee67800adc7fc8866', 'e29c9c180c6279b0b02abd6a1801c7c04082cf486ec027aa13515e4f3884bb6b', '81b8a03f97e8787c53fe1a86bda042b6f0de9b0ec9c09357e107c99ba4d6948a', 'a88a7902cb4ef697ba0b6759c50e8c10297ff58f942243de19b984841bfe1f73', 'd6d824abba4afde81129c71dea75b8100e96338da5f416d2f69088f1960cb091', '4523540f1504cd17100c4835e85b7eefd49911580f8efff0599a8f283be6b9e3', '8c1f1046219ddd216a023f792356ddf127fce372a72ec9b4cdac989ee5b0b455', 'e29c9c180c6279b0b02abd6a1801c7c04082cf486ec027aa13515e4f3884bb6b', '41cfc0d1f2d127b04555b7246d84019b4d27710a3f3aff6e7764375b1e06e05d', '0e17daca5f3e175f448bacace3bc0da47d0655a74c8dd0dc497a3afbdad95f1f', '98a3ab7c340e8a033e7b37b6ef9428751581760af67bbab2b9e05d4964a8874a', 'e29c9c180c6279b0b02abd6a1801c7c04082cf486ec027aa13515e4f3884bb6b', 'a21855da08cb102d1d217c53dc5824a3a795c1c1a44e971bf01ab9da3a2acbbf', 'e629fa6598d732768f7c726b4b621285f9c3b85303900aa912017db7617d8bdb', 'c6f3ac57944a531490cd39902d0f777715fd005efac9a30622d5f5205e7f6894', '624b60c58c9d8bfb6ff1886c2fd605d2adeb6ea4da576068201b6c6958ce93f4', 'e29c9c180c6279b0b02abd6a1801c7c04082cf486ec027aa13515e4f3884bb6b', '31489056e0916d59fe3add79e63f095af3ffb81604691f21cad442a85c7be617', 'bbb965ab0c80d6538cf2184babad2a564a010376712012bd07b0af92dcd3097d', '2858dcd1057d3eae7f7d5f782167e24b61153c01551450a628cee722509f6529', '7902699be42c8a8e46fbbb4501726517e86b22c56a189f7625a6da49081b2451', '1a6562590ef19d1045d06c4055742d38288e9e6dcd71ccde5cee80f1d5a774eb', 'a21855da08cb102d1d217c53dc5824a3a795c1c1a44e971bf01ab9da3a2acbbf', '4b227777d4dd1fc61c6f884f48641d02b4d121d3fd328cb08b5531fcacdabf8a', '6b51d431df5d7f141cbececcf79edf3dd861c3b4069f0b11661a3eefacbba918', '4e07408562bedb8b60ce05c1decfe3ad16b72230967de01f640b7e4729b49fce', '81b8a03f97e8787c53fe1a86bda042b6f0de9b0ec9c09357e107c99ba4d6948a', 'd59eced1ded07f84c145592f65bdf854358e009c5cd705f5215bf18697fed103', '19581e27de7ced00ff1ce50b2047e7a567c76b1cbaebabe5ef03f7c3017bb5b7', 'f369cb89fc627e668987007d121ed1eacdc01db9e28f8bb26f358b7d8c4f08ac', '5f9c4ab08cac7457e9111a30e4664920607ea2c115a1433d7be98e97e64244ca', '29db0c6782dbd5000559ef4d9e953e300e2b479eed26d887ef3f92b921c06a67', 'f74efabef12ea619e30b79bddef89cffa9dda494761681ca862cff2871a85980', '785f3ec7eb32f30b90cd0fcf3657d388b5ff4297f2f9716ff66e9b69c05ddd09', '3e1e967e9b793e908f8eae83c74dba9bcccce6a5535b4b462bd9994537bfe15c', '4a44dc15364204a80fe80e9039455cc1608281820fe2b24f1e5233ade6af1dd5']\n",
      "This took  0.0004909038543701172\n",
      "10\n"
     ]
    }
   ],
   "source": [
    "#Generating and testing hashes\n",
    "import hashlib\n",
    "import time\n",
    "import random\n",
    "\n",
    "def generate_hashes():\n",
    "    start_time = time.time()\n",
    "#    setup_r = random.randrange(0, 100, 1)\n",
    "#    m = hashlib.sha256(str(setup_r).encode())\n",
    "    gen_list = []\n",
    "\n",
    "    for i in range(50):\n",
    "        setup_r = random.randrange(0, 100, 1)\n",
    "        m =  hashlib.sha256(str(setup_r).encode())\n",
    "        gen_list.append(m.hexdigest())\n",
    "\n",
    "    print(gen_list)\n",
    "\n",
    "    end_time = str((time.time() - start_time))\n",
    "    print(\"This took \", end_time)\n",
    "    print(setup_r)\n",
    "\n",
    "if __name__ == '__main__':\n",
    "    generate_hashes()\n"
   ]
  },
  {
   "cell_type": "code",
   "execution_count": null,
   "id": "governmental-century",
   "metadata": {},
   "outputs": [],
   "source": []
  },
  {
   "cell_type": "code",
   "execution_count": null,
   "id": "former-cuisine",
   "metadata": {},
   "outputs": [],
   "source": []
  },
  {
   "cell_type": "code",
   "execution_count": null,
   "id": "whole-pursuit",
   "metadata": {},
   "outputs": [],
   "source": []
  }
 ],
 "metadata": {
  "kernelspec": {
   "display_name": "Python 3",
   "language": "python",
   "name": "python3"
  },
  "language_info": {
   "codemirror_mode": {
    "name": "ipython",
    "version": 3
   },
   "file_extension": ".py",
   "mimetype": "text/x-python",
   "name": "python",
   "nbconvert_exporter": "python",
   "pygments_lexer": "ipython3",
   "version": "3.8.5"
  }
 },
 "nbformat": 4,
 "nbformat_minor": 5
}
